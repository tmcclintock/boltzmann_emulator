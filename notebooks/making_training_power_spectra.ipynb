{
 "cells": [
  {
   "cell_type": "markdown",
   "metadata": {},
   "source": [
    "# Making training power spectra\n",
    "\n",
    "**NOTE**: this notebook does **NOT** demonstrate how to use the emulator. It is used to create a set of training cosmologies for use in a separate notebook.\n",
    "\n",
    "The Boltzmann code emulator require two things:\n",
    "1. A set of power spectra evaluated at different cosmologies $\\{P(k,z,\\vec{\\Omega}_1),P(k,z,\\vec{\\Omega}_2),...\\}$.\n",
    "2. A list of cosmological parameters that the power spectra have been evaluated at $\\{\\vec{\\Omega}_1, \\vec{\\Omega}_2,...\\}$.\n",
    "\n",
    "For emulators based on simulations, one would use a space-filling set of parameters, so that the samples (i.e. the power spectra) have good coverage while minimizing the number of simulations needed to cover that space. For this example I won't bother making the sample space filling, since running CLASS with only modest accuracy is fairly cheap.\n",
    "\n",
    "So in this notebook, I will:\n",
    "1. Create meshgrid in the $\\sigma_8-\\Omega_m$ plane at 100 points.\n",
    "2. Create an array of redshifts $z\\in[0,1]$ and wavenumbers $k$.\n",
    "3. Compute the linear power spectrum $P_{\\rm lin}(k,z)$ at each cosmology.\n",
    "4. Save the cosmological parameters, power spectra, redshifts, and wavenumbers in a pickled format to be read into the other notebook."
   ]
  },
  {
   "cell_type": "code",
   "execution_count": 1,
   "metadata": {},
   "outputs": [],
   "source": [
    "import numpy as np\n",
    "import matplotlib.pyplot as plt #Always good to check our work!\n",
    "%matplotlib inline"
   ]
  },
  {
   "cell_type": "code",
   "execution_count": 2,
   "metadata": {},
   "outputs": [],
   "source": [
    "plt.rc(\"font\", size=18, family=\"serif\")\n",
    "#plt.rc(\"text\", usetex=True)"
   ]
  },
  {
   "cell_type": "code",
   "execution_count": 6,
   "metadata": {},
   "outputs": [
    {
     "name": "stdout",
     "output_type": "stream",
     "text": [
      "[[0.7        0.2       ]\n",
      " [0.7        0.22222222]\n",
      " [0.7        0.24444444]]\n",
      "[[0.9        0.35555556]\n",
      " [0.9        0.37777778]\n",
      " [0.9        0.4       ]]\n"
     ]
    }
   ],
   "source": [
    "#Step 1 - make a meshgrid in cosmology\n",
    "N_s8 = 10 #number of sigma8s\n",
    "N_Om = 10 #number of Omega_ms\n",
    "sigma8s = np.linspace(0.7, 0.9, N_s8)\n",
    "Omega_ms = np.linspace(0.2, 0.4, N_Om)\n",
    "\n",
    "parameter_grid = np.zeros((10*10, 2))\n",
    "for i, s8 in enumerate(sigma8s):\n",
    "    for j, Om in enumerate(Omega_ms):\n",
    "        ind = i*N_Om + j\n",
    "        parameter_grid[ind, 0] = s8\n",
    "        parameter_grid[ind, 1] = Om\n",
    "print(parameter_grid[:3])\n",
    "print(parameter_grid[-3:])"
   ]
  },
  {
   "cell_type": "code",
   "execution_count": 11,
   "metadata": {},
   "outputs": [],
   "source": [
    "#Step 2 - create the redshifts and wavenumbers\n",
    "Nz = 10\n",
    "Nk = 200\n",
    "zs = np.linspace(0, 1, Nz)\n",
    "k = np.logspace(-3, 2, Nk) #1/Mpc comoving"
   ]
  },
  {
   "cell_type": "code",
   "execution_count": 13,
   "metadata": {},
   "outputs": [
    {
     "name": "stdout",
     "output_type": "stream",
     "text": [
      "Done with sigma8=0.70  Omega_m=0.20\n",
      "Done with sigma8=0.72  Omega_m=0.20\n",
      "Done with sigma8=0.74  Omega_m=0.20\n",
      "Done with sigma8=0.77  Omega_m=0.20\n",
      "Done with sigma8=0.79  Omega_m=0.20\n",
      "Done with sigma8=0.81  Omega_m=0.20\n",
      "Done with sigma8=0.83  Omega_m=0.20\n",
      "Done with sigma8=0.86  Omega_m=0.20\n",
      "Done with sigma8=0.88  Omega_m=0.20\n",
      "Done with sigma8=0.90  Omega_m=0.20\n",
      "(100, 2000)\n"
     ]
    }
   ],
   "source": [
    "#Step 3 - compute the power spectra everywhere\n",
    "from classy import Class\n",
    "\n",
    "#Some assumed cosmological paramters and defaults in the class dictionary\n",
    "Ob = 0.05\n",
    "class_dict = {\"h\":0.7, \"n_s\":0.96, \"Omega_b\":0.05, \n",
    "              'P_k_max_1/Mpc':100., 'z_max_pk':1.0, 'output': 'mPk'}\n",
    "\n",
    "N_cosmologies = len(parameter_grid)\n",
    "Pk_all = np.zeros((N_cosmologies, Nz*Nk)) #Mpc^3 comoving\n",
    "\n",
    "for i, (s8, Om) in enumerate(parameter_grid):\n",
    "    class_dict['sigma8'] = s8\n",
    "    Ocdm = Om - class_dict['Omega_b']\n",
    "    class_dict['Omega_cdm'] = Ocdm\n",
    "    cosmo = Class()\n",
    "    cosmo.set(class_dict)\n",
    "    cosmo.compute()\n",
    "\n",
    "    Pkz = np.zeros(Nz*Nk)\n",
    "    for zi, z in enumerate(zs):\n",
    "        lo = zi*Nk \n",
    "        hi = (zi+1)*Nk\n",
    "        Pk = np.array([cosmo.pk_lin(ki, z) for ki in k])\n",
    "        Pkz[lo:hi] = Pk\n",
    "    if i%10 == 0:\n",
    "        print \"Done with sigma8=%.2f  Omega_m=%.2f\"%(s8, Om)\n",
    "    Pk_all[i] = Pkz\n",
    "print(Pk_all.shape)"
   ]
  },
  {
   "cell_type": "code",
   "execution_count": 15,
   "metadata": {},
   "outputs": [
    {
     "data": {
      "text/plain": [
       "Text(0,0.5,'$\\\\sigma_8$')"
      ]
     },
     "execution_count": 15,
     "metadata": {},
     "output_type": "execute_result"
    },
    {
     "data": {
      "image/png": "[encoded data removed]",
      "text/plain": [
       "<Figure size 432x288 with 1 Axes>"
      ]
     },
     "metadata": {},
     "output_type": "display_data"
    }
   ],
   "source": [
    "#Let's plot things to make sure it all looks good.\n",
    "plt.scatter(parameter_grid[:, 1], parameter_grid[:, 0])\n",
    "plt.xlabel(r\"$\\Omega_m$\")\n",
    "plt.ylabel(r\"$\\sigma_8$\")"
   ]
  },
  {
   "cell_type": "code",
   "execution_count": 16,
   "metadata": {},
   "outputs": [
    {
     "data": {
      "image/png": "[encoded data removed]",
      "text/plain": [
       "<Figure size 432x288 with 1 Axes>"
      ]
     },
     "metadata": {},
     "output_type": "display_data"
    }
   ],
   "source": [
    "for i in range(3):\n",
    "    plt.loglog(k, Pk_all[i, :Nk])"
   ]
  },
  {
   "cell_type": "code",
   "execution_count": 17,
   "metadata": {},
   "outputs": [],
   "source": [
    "#Step 4 - save everything and pickle it\n",
    "output_dict = {'k':k, 'zs':zs, 'parameters':parameter_grid, 'Pks':Pk_all}\n",
    "import pickle\n",
    "pickle.dump(output_dict, open(\"emulator_components.p\", \"wb\"))"
   ]
  },
  {
   "cell_type": "code",
   "execution_count": null,
   "metadata": {},
   "outputs": [],
   "source": []
  }
 ],
 "metadata": {
  "kernelspec": {
   "display_name": "Python 2",
   "language": "python",
   "name": "python2"
  },
  "language_info": {
   "codemirror_mode": {
    "name": "ipython",
    "version": 2
   },
   "file_extension": ".py",
   "mimetype": "text/x-python",
   "name": "python",
   "nbconvert_exporter": "python",
   "pygments_lexer": "ipython2",
   "version": "2.7.13"
  }
 },
 "nbformat": 4,
 "nbformat_minor": 2
}
