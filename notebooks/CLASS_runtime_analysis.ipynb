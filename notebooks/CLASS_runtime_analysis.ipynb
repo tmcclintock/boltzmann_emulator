{
 "cells": [
  {
   "cell_type": "markdown",
   "metadata": {},
   "source": [
    "# CLASS runtime analysis\n",
    "\n",
    "Boltzmann codes are the usually slowest part of a large scale structure cosmology analysis. However, the actual time it takes to run these routines is dependent on how they are configured. Particularly, the maximum wavenumber $k_{\\rm max}$ they must compute (i.e. how deep into the non-linear regime) usually dictates how long the code takes to run. Therefore, the actual need for a Boltzmann code emulator is motivated by how this runtime scales.\n",
    "\n",
    "In this notebook, we will see how the runtime of CLASS depends on $k_{\\rm max}$."
   ]
  },
  {
   "cell_type": "code",
   "execution_count": 1,
   "metadata": {},
   "outputs": [],
   "source": [
    "import numpy as np\n",
    "import matplotlib.pyplot as plt\n",
    "import timeit\n",
    "from classy import Class\n",
    "%matplotlib inline"
   ]
  },
  {
   "cell_type": "code",
   "execution_count": 2,
   "metadata": {},
   "outputs": [],
   "source": [
    "plt.rc(\"font\", size=14, family=\"serif\")\n",
    "plt.rc(\"text\", usetex=True)"
   ]
  },
  {
   "cell_type": "code",
   "execution_count": 3,
   "metadata": {},
   "outputs": [],
   "source": [
    "#Step 1: define a cosmological model via a CLASS input dictionary\n",
    "#Some assumed cosmological paramters and defaults in the class dictionary\n",
    "Ob = 0.05\n",
    "class_dict = {\"h\":0.7, \"n_s\":0.96, \"Omega_b\":0.05, \"Omega_cdm\": 0.25, \"A_s\": 2.0e-9,\n",
    "              'z_max_pk':1.0, 'output': 'mPk', 'non linear':'halofit'}\n",
    "cosmo = Class()"
   ]
  },
  {
   "cell_type": "code",
   "execution_count": 4,
   "metadata": {},
   "outputs": [],
   "source": [
    "#Step 2: define a function that loop over ks, times a few cosmo.computes() and returns the times\n",
    "def test_function():\n",
    "    cosmo.compute()\n",
    "\n",
    "def get_time(kmax, number=10):\n",
    "    class_dict['P_k_max_h/Mpc'] = kmax\n",
    "    cosmo.set(class_dict)\n",
    "    return timeit.timeit(\"test_function()\", number=number, setup=\"from __main__ import test_function\")"
   ]
  },
  {
   "cell_type": "code",
   "execution_count": 5,
   "metadata": {},
   "outputs": [
    {
     "name": "stdout",
     "output_type": "stream",
     "text": [
      "log10kmax = 1.0e+00,   time/10 = 0.5996\n",
      "log10kmax = 1.4e+00,   time/10 = 0.5799\n",
      "log10kmax = 2.1e+00,   time/10 = 0.5803\n",
      "log10kmax = 3.0e+00,   time/10 = 0.5763\n",
      "log10kmax = 4.3e+00,   time/10 = 0.5785\n",
      "log10kmax = 6.2e+00,   time/10 = 0.5813\n",
      "log10kmax = 8.9e+00,   time/10 = 0.6266\n",
      "log10kmax = 1.3e+01,   time/10 = 0.7534\n",
      "log10kmax = 1.8e+01,   time/10 = 0.8991\n",
      "log10kmax = 2.6e+01,   time/10 = 1.1302\n",
      "log10kmax = 3.8e+01,   time/10 = 1.2994\n",
      "log10kmax = 5.5e+01,   time/10 = 1.8582\n",
      "log10kmax = 7.8e+01,   time/10 = 2.3745\n",
      "log10kmax = 1.1e+02,   time/10 = 3.6253\n",
      "log10kmax = 1.6e+02,   time/10 = 4.5000\n",
      "log10kmax = 2.3e+02,   time/10 = 6.7314\n",
      "log10kmax = 3.4e+02,   time/10 = 11.2777\n",
      "log10kmax = 4.8e+02,   time/10 = 13.5903\n",
      "log10kmax = 7.0e+02,   time/10 = 22.1232\n",
      "log10kmax = 1.0e+03,   time/10 = 27.6499\n"
     ]
    }
   ],
   "source": [
    "log10kmaxes = np.linspace(0, 3, 20)\n",
    "kmaxes = 10**log10kmaxes\n",
    "times = np.zeros_like(log10kmaxes)\n",
    "number = 10\n",
    "for i, kmax in enumerate(kmaxes):\n",
    "    times[i] = get_time(kmax, number)\n",
    "    print(\"log10kmax = %.1e,   time/%d = %.4f\"%(kmax, number, times[i]))"
   ]
  },
  {
   "cell_type": "code",
   "execution_count": 6,
   "metadata": {},
   "outputs": [
    {
     "data": {
      "image/png": "[encoded data removed]",
      "text/plain": [
       "<Figure size 432x288 with 1 Axes>"
      ]
     },
     "metadata": {},
     "output_type": "display_data"
    }
   ],
   "source": [
    "plt.loglog(kmaxes, times/number)\n",
    "plt.xlabel(r\"$k_{\\rm max}\\ [h^{-1}{\\rm Mpc; comoving}]$\")\n",
    "plt.ylabel(r\"Computation time [sec]\")\n",
    "plt.savefig(\"CLASS_runtime.png\", dpi=300, bbox_inches=\"tight\")"
   ]
  },
  {
   "cell_type": "markdown",
   "metadata": {},
   "source": [
    "## Significant runtime\n",
    "\n",
    "As we see here, CLASS (and probably CAMB as well), become costly to run once $k_{\\rm max}\\approx 1e3$. This is the scale usually required to get sub-1% conversion on quantities such as the matter-matter correlation function. Thus, a Boltzmann emulator is desirable.\n",
    "\n",
    "### Note - parallelism\n",
    "\n",
    "CLASS as ran here is probably not parallelised, and other machines will very likely have more cores available than the laptop this was run on. The affect of parallelising a Boltzmann code is to shift the blue curve in the plot above down by a factor of $\\sim N_{\\rm cores}$."
   ]
  },
  {
   "cell_type": "code",
   "execution_count": null,
   "metadata": {},
   "outputs": [],
   "source": []
  }
 ],
 "metadata": {
  "kernelspec": {
   "display_name": "Python 2",
   "language": "python",
   "name": "python2"
  },
  "language_info": {
   "codemirror_mode": {
    "name": "ipython",
    "version": 2
   },
   "file_extension": ".py",
   "mimetype": "text/x-python",
   "name": "python",
   "nbconvert_exporter": "python",
   "pygments_lexer": "ipython2",
   "version": "2.7.13"
  }
 },
 "nbformat": 4,
 "nbformat_minor": 2
}
